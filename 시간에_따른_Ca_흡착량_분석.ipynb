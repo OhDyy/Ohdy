{
  "nbformat": 4,
  "nbformat_minor": 0,
  "metadata": {
    "colab": {
      "provenance": [],
      "authorship_tag": "ABX9TyN1ayJy2vAem5hnFwbtg5nm",
      "include_colab_link": true
    },
    "kernelspec": {
      "name": "ir",
      "display_name": "R"
    },
    "language_info": {
      "name": "R"
    }
  },
  "cells": [
    {
      "cell_type": "markdown",
      "metadata": {
        "id": "view-in-github",
        "colab_type": "text"
      },
      "source": [
        "<a href=\"https://colab.research.google.com/github/OhDyy/Ohdy/blob/main/%EC%8B%9C%EA%B0%84%EC%97%90_%EB%94%B0%EB%A5%B8_Ca_%ED%9D%A1%EC%B0%A9%EB%9F%89_%EB%B6%84%EC%84%9D.ipynb\" target=\"_parent\"><img src=\"https://colab.research.google.com/assets/colab-badge.svg\" alt=\"Open In Colab\"/></a>"
      ]
    },
    {
      "cell_type": "code",
      "execution_count": 1,
      "metadata": {
        "id": "t_xDoy-4FsZl"
      },
      "outputs": [],
      "source": [
        "#https://drive.google.com/file/d/1FZrc9Krn92z2e0qngjIGoXAaR75cFCxS/view?usp=drive_link"
      ]
    },
    {
      "cell_type": "code",
      "source": [
        "install.packages(c(\"tidyverse\", \"caret\", \"e1071\", \"Hmisc\"))"
      ],
      "metadata": {
        "colab": {
          "base_uri": "https://localhost:8080/"
        },
        "id": "PVz83tKAF4uo",
        "outputId": "a80b7f76-1404-4052-eb79-0647ed30bb2f"
      },
      "execution_count": 2,
      "outputs": [
        {
          "output_type": "stream",
          "name": "stderr",
          "text": [
            "Installing packages into ‘/usr/local/lib/R/site-library’\n",
            "(as ‘lib’ is unspecified)\n",
            "\n",
            "also installing the dependencies ‘listenv’, ‘parallelly’, ‘future’, ‘globals’, ‘shape’, ‘future.apply’, ‘numDeriv’, ‘progressr’, ‘SQUAREM’, ‘diagram’, ‘lava’, ‘prodlim’, ‘iterators’, ‘Rcpp’, ‘clock’, ‘gower’, ‘hardhat’, ‘ipred’, ‘timeDate’, ‘checkmate’, ‘htmlwidgets’, ‘foreach’, ‘ModelMetrics’, ‘plyr’, ‘pROC’, ‘recipes’, ‘reshape2’, ‘proxy’, ‘gridExtra’, ‘htmlTable’, ‘viridis’, ‘Formula’\n",
            "\n",
            "\n"
          ]
        }
      ]
    },
    {
      "cell_type": "code",
      "source": [
        "library(tidyverse)\n",
        "library(data.table)"
      ],
      "metadata": {
        "colab": {
          "base_uri": "https://localhost:8080/"
        },
        "id": "GBLsWgVZIcs2",
        "outputId": "414b2f46-87ea-472d-b6bf-4433d116321c"
      },
      "execution_count": 3,
      "outputs": [
        {
          "output_type": "stream",
          "name": "stderr",
          "text": [
            "── \u001b[1mAttaching core tidyverse packages\u001b[22m ──────────────────────── tidyverse 2.0.0 ──\n",
            "\u001b[32m✔\u001b[39m \u001b[34mdplyr    \u001b[39m 1.1.3     \u001b[32m✔\u001b[39m \u001b[34mreadr    \u001b[39m 2.1.4\n",
            "\u001b[32m✔\u001b[39m \u001b[34mforcats  \u001b[39m 1.0.0     \u001b[32m✔\u001b[39m \u001b[34mstringr  \u001b[39m 1.5.0\n",
            "\u001b[32m✔\u001b[39m \u001b[34mggplot2  \u001b[39m 3.4.4     \u001b[32m✔\u001b[39m \u001b[34mtibble   \u001b[39m 3.2.1\n",
            "\u001b[32m✔\u001b[39m \u001b[34mlubridate\u001b[39m 1.9.3     \u001b[32m✔\u001b[39m \u001b[34mtidyr    \u001b[39m 1.3.0\n",
            "\u001b[32m✔\u001b[39m \u001b[34mpurrr    \u001b[39m 1.0.2     \n",
            "── \u001b[1mConflicts\u001b[22m ────────────────────────────────────────── tidyverse_conflicts() ──\n",
            "\u001b[31m✖\u001b[39m \u001b[34mdplyr\u001b[39m::\u001b[32mfilter()\u001b[39m masks \u001b[34mstats\u001b[39m::filter()\n",
            "\u001b[31m✖\u001b[39m \u001b[34mdplyr\u001b[39m::\u001b[32mlag()\u001b[39m    masks \u001b[34mstats\u001b[39m::lag()\n",
            "\u001b[36mℹ\u001b[39m Use the conflicted package (\u001b[3m\u001b[34m<http://conflicted.r-lib.org/>\u001b[39m\u001b[23m) to force all conflicts to become errors\n",
            "\n",
            "Attaching package: ‘data.table’\n",
            "\n",
            "\n",
            "The following objects are masked from ‘package:lubridate’:\n",
            "\n",
            "    hour, isoweek, mday, minute, month, quarter, second, wday, week,\n",
            "    yday, year\n",
            "\n",
            "\n",
            "The following objects are masked from ‘package:dplyr’:\n",
            "\n",
            "    between, first, last\n",
            "\n",
            "\n",
            "The following object is masked from ‘package:purrr’:\n",
            "\n",
            "    transpose\n",
            "\n",
            "\n"
          ]
        }
      ]
    },
    {
      "cell_type": "code",
      "source": [
        "library(repr)\n",
        "options(repr.plot.sidth=10, repr.plot.height=7)"
      ],
      "metadata": {
        "id": "2ghFezZxIdHw"
      },
      "execution_count": 4,
      "outputs": []
    },
    {
      "cell_type": "code",
      "source": [
        "#https://drive.google.com/file/d/1FZrc9Krn92z2e0qngjIGoXAaR75cFCxS/view?usp=drive_link\n",
        "system(\"gdown --id 1FZrc9Krn92z2e0qngjIGoXAaR75cFCxS\")\n",
        "system(\"ls\",TRUE)"
      ],
      "metadata": {
        "colab": {
          "base_uri": "https://localhost:8080/",
          "height": 34
        },
        "id": "8I_-cXHrIgW-",
        "outputId": "e3eff576-89ef-44e0-f09a-fb11848b1165"
      },
      "execution_count": 5,
      "outputs": [
        {
          "output_type": "display_data",
          "data": {
            "text/html": [
              "<style>\n",
              ".list-inline {list-style: none; margin:0; padding: 0}\n",
              ".list-inline>li {display: inline-block}\n",
              ".list-inline>li:not(:last-child)::after {content: \"\\00b7\"; padding: 0 .5ex}\n",
              "</style>\n",
              "<ol class=list-inline><li>'Ca Kinetics.csv'</li><li>'sample_data'</li></ol>\n"
            ],
            "text/markdown": "1. 'Ca Kinetics.csv'\n2. 'sample_data'\n\n\n",
            "text/latex": "\\begin{enumerate*}\n\\item 'Ca Kinetics.csv'\n\\item 'sample\\_data'\n\\end{enumerate*}\n",
            "text/plain": [
              "[1] \"Ca Kinetics.csv\" \"sample_data\"    "
            ]
          },
          "metadata": {}
        }
      ]
    },
    {
      "cell_type": "code",
      "source": [
        "DF <- read.csv(\"Ca Kinetics.csv\", encoding = \"EUC-KR\", header=TRUE,na.strings=\".\")\n",
        "DF %>% show()"
      ],
      "metadata": {
        "colab": {
          "base_uri": "https://localhost:8080/"
        },
        "id": "7QgCJBeqIvly",
        "outputId": "4ce70204-b6ed-427c-8cc0-5dcb474fbd64"
      },
      "execution_count": 20,
      "outputs": [
        {
          "output_type": "stream",
          "name": "stdout",
          "text": [
            "  time Absorbed.amount\n",
            "1    1           14.75\n",
            "2    2           18.19\n",
            "3    3           21.27\n",
            "4    4           23.37\n",
            "5    5           23.88\n",
            "6    6           24.35\n"
          ]
        }
      ]
    },
    {
      "cell_type": "code",
      "source": [
        "library(Hmisc)"
      ],
      "metadata": {
        "colab": {
          "base_uri": "https://localhost:8080/"
        },
        "id": "UOsRYJHsJJeM",
        "outputId": "3754b58a-25e4-4f8f-f2d8-2998ceb547e5"
      },
      "execution_count": 9,
      "outputs": [
        {
          "output_type": "stream",
          "name": "stderr",
          "text": [
            "\n",
            "Attaching package: ‘Hmisc’\n",
            "\n",
            "\n",
            "The following objects are masked from ‘package:dplyr’:\n",
            "\n",
            "    src, summarize\n",
            "\n",
            "\n",
            "The following objects are masked from ‘package:base’:\n",
            "\n",
            "    format.pval, units\n",
            "\n",
            "\n"
          ]
        }
      ]
    },
    {
      "cell_type": "code",
      "source": [
        "library(caret)\n",
        "set.seed(31)"
      ],
      "metadata": {
        "colab": {
          "base_uri": "https://localhost:8080/"
        },
        "id": "JtkEccbhJOPA",
        "outputId": "fcb975ac-2349-459b-ef09-55cbb4cd27d7"
      },
      "execution_count": 10,
      "outputs": [
        {
          "output_type": "stream",
          "name": "stderr",
          "text": [
            "Loading required package: lattice\n",
            "\n",
            "\n",
            "Attaching package: ‘caret’\n",
            "\n",
            "\n",
            "The following object is masked from ‘package:purrr’:\n",
            "\n",
            "    lift\n",
            "\n",
            "\n"
          ]
        }
      ]
    },
    {
      "cell_type": "code",
      "source": [
        "show(DF)"
      ],
      "metadata": {
        "colab": {
          "base_uri": "https://localhost:8080/"
        },
        "id": "p1RZv7s0KxE4",
        "outputId": "dab7f9ca-48a0-43b9-9e4b-bce55098bc80"
      },
      "execution_count": 21,
      "outputs": [
        {
          "output_type": "stream",
          "name": "stdout",
          "text": [
            "  time Absorbed.amount\n",
            "1    1           14.75\n",
            "2    2           18.19\n",
            "3    3           21.27\n",
            "4    4           23.37\n",
            "5    5           23.88\n",
            "6    6           24.35\n"
          ]
        }
      ]
    },
    {
      "cell_type": "code",
      "source": [
        "x = c(1,2,3,4,5,6) #Time\n",
        "y = c(14.75,18.19,21.27,23.37,23.88,24.35) #Ca Absorbed amount\n",
        "m = lm(y ~ x)\n",
        "m"
      ],
      "metadata": {
        "colab": {
          "base_uri": "https://localhost:8080/",
          "height": 144
        },
        "id": "JtrfB4MeJRe6",
        "outputId": "0908ad82-bc93-4542-9039-59ab13793e5a"
      },
      "execution_count": 33,
      "outputs": [
        {
          "output_type": "display_data",
          "data": {
            "text/plain": [
              "\n",
              "Call:\n",
              "lm(formula = y ~ x)\n",
              "\n",
              "Coefficients:\n",
              "(Intercept)            x  \n",
              "     14.251        1.919  \n"
            ]
          },
          "metadata": {}
        }
      ]
    },
    {
      "cell_type": "code",
      "source": [
        "summary(m)"
      ],
      "metadata": {
        "colab": {
          "base_uri": "https://localhost:8080/",
          "height": 344
        },
        "id": "ClhOKH8uKYMH",
        "outputId": "6cc47547-e1fe-474d-cf06-f190f3e221a2"
      },
      "execution_count": 16,
      "outputs": [
        {
          "output_type": "display_data",
          "data": {
            "text/plain": [
              "\n",
              "Call:\n",
              "lm(formula = y ~ x)\n",
              "\n",
              "Residuals:\n",
              "       1        2        3        4        5        6 \n",
              "-1.42048  0.10038  1.26124  1.44210  0.03295 -1.41619 \n",
              "\n",
              "Coefficients:\n",
              "            Estimate Std. Error t value Pr(>|t|)    \n",
              "(Intercept)  14.2513     1.2920  11.030 0.000384 ***\n",
              "x             1.9191     0.3318   5.785 0.004437 ** \n",
              "---\n",
              "Signif. codes:  0 ‘***’ 0.001 ‘**’ 0.01 ‘*’ 0.05 ‘.’ 0.1 ‘ ’ 1\n",
              "\n",
              "Residual standard error: 1.388 on 4 degrees of freedom\n",
              "Multiple R-squared:  0.8932,\tAdjusted R-squared:  0.8665 \n",
              "F-statistic: 33.46 on 1 and 4 DF,  p-value: 0.004437\n"
            ]
          },
          "metadata": {}
        }
      ]
    },
    {
      "cell_type": "markdown",
      "source": [
        "시간에 따른 Ca의 흡착량 분석 선형회기 분석 y = 1.919x + 14.251\n",
        "유의수준 : 0.05 p-value : 0.004437으로 유의수준 > p-value임으로 대립가설이 성립하고 시간과 Ca의 흡착량은 서로 관계가 있다고 볼 수 있다."
      ],
      "metadata": {
        "id": "dlwmKPj81B7K"
      }
    },
    {
      "cell_type": "code",
      "source": [
        "plot(x, y)\n",
        "abline(m, col = 'red', cex =2, pch=20)"
      ],
      "metadata": {
        "colab": {
          "base_uri": "https://localhost:8080/",
          "height": 437
        },
        "id": "_DvtGUufKgAf",
        "outputId": "a47d8e95-7cfd-452f-9c25-62097b742cfb"
      },
      "execution_count": 41,
      "outputs": [
        {
          "output_type": "display_data",
          "data": {
            "text/plain": [
              "plot without title"
            ],
            "image/png": "[encoded data removed]"
          },
          "metadata": {
            "image/png": {
              "width": 420,
              "height": 420
            }
          }
        }
      ]
    },
    {
      "cell_type": "code",
      "source": [
        "newx = data.frame(x=c(7,8,9))\n",
        "predict(m,newdata = newx)"
      ],
      "metadata": {
        "colab": {
          "base_uri": "https://localhost:8080/",
          "height": 34
        },
        "id": "iyZc8KYYRBu5",
        "outputId": "a7ecd9e4-2502-450d-87cd-26ab770156ac"
      },
      "execution_count": 39,
      "outputs": [
        {
          "output_type": "display_data",
          "data": {
            "text/html": [
              "<style>\n",
              ".dl-inline {width: auto; margin:0; padding: 0}\n",
              ".dl-inline>dt, .dl-inline>dd {float: none; width: auto; display: inline-block}\n",
              ".dl-inline>dt::after {content: \":\\0020\"; padding-right: .5ex}\n",
              ".dl-inline>dt:not(:first-of-type) {padding-left: .5ex}\n",
              "</style><dl class=dl-inline><dt>1</dt><dd>27.6853333333333</dd><dt>2</dt><dd>29.6044761904762</dd><dt>3</dt><dd>31.523619047619</dd></dl>\n"
            ],
            "text/markdown": "1\n:   27.68533333333332\n:   29.60447619047623\n:   31.523619047619\n\n",
            "text/latex": "\\begin{description*}\n\\item[1] 27.6853333333333\n\\item[2] 29.6044761904762\n\\item[3] 31.523619047619\n\\end{description*}\n",
            "text/plain": [
              "       1        2        3 \n",
              "27.68533 29.60448 31.52362 "
            ]
          },
          "metadata": {}
        }
      ]
    },
    {
      "cell_type": "markdown",
      "source": [
        "이후 7,8,9 시간 이후의 Ca 흡착량을 예측했을때 7시간일때는 27.69mg 8시간일때는 29.60mg 9시간일때는 31.52mg으로 예측하였다."
      ],
      "metadata": {
        "id": "E7QV76r61-pu"
      }
    }
  ]
}